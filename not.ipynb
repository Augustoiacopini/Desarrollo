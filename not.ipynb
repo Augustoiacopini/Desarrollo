{
 "cells": [
  {
   "cell_type": "code",
   "execution_count": 84,
   "metadata": {},
   "outputs": [],
   "source": [
    "#!/usr/bin/env python3\n",
    "# -*- coding: utf-8 -*-\n",
    "\"\"\"\n",
    "Created on Mon Jan 24 20:43:34 2022\n",
    "\n",
    "@author: augusto\n",
    "\"\"\"\n",
    "\n",
    "import plotly.express as px\n",
    "class analyzer:\n",
    "    \"\"\"manejo de un dataframe con extencion .csv usando pandas\n",
    "my_data = '***.csv'\n",
    "my_analyzer = analyzer(my_data)\"\"\"\n",
    "    \n",
    "    def __init__(self, data):\n",
    "\n",
    "        import pandas as pd\n",
    "        \n",
    "        self.data = data\n",
    "        df = pd.read_csv(self.data)\n",
    "        pd.set_option('display.max_columns', None)\n",
    "        pd.set_option(\"max_rows\", None)\n",
    "        \n",
    "        self.df = df\n",
    "        \n",
    "class graphic:\n",
    "    \"\"\"graficos de cruce de datos \"\"\"\n",
    "    pass\n",
    "archivo = '/home/augusto/Escritorio/MlPlak_Analisis/egdr2.csv'\n",
    "dat = analyzer(archivo)\n",
    "\n",
    "columnas = dat.df.columns\n",
    "\n",
    "resumen = dat.df.sample(20)\n",
    "\n",
    "#serie = dat.df.MEDIDAS.value_counts()\n",
    "\n",
    "#serie.plot.barh()\n",
    "\n",
    "\n",
    "\n",
    "#medidas\n",
    "medidas_nair = dat.df[dat.df['MEDIDAS']=='1-Nair']\n",
    "medidas_consu = dat.df[dat.df['MEDIDAS']=='2-Consu']\n",
    "medidas_cande = dat.df[dat.df['MEDIDAS']=='3-Cande']\n",
    "medidas_caro = dat.df[dat.df['MEDIDAS']=='4-Caro']\n",
    "medidas_mariano = dat.df[dat.df['MEDIDAS']=='5-Mariano']\n",
    "medidas_ConsuCande = dat.df[dat.df['MEDIDAS']=='Consu/Cande']\n",
    "medidas_CandeCaro = dat.df[dat.df['MEDIDAS']=='Cande/Caro']\n",
    "medidas_ConsuCaro = dat.df[dat.df['MEDIDAS']=='Consu/Caro']\n",
    "\n",
    "#medidas y encargado\n",
    "\n",
    "medidas_nair_juan = medidas_nair[medidas_nair['TALLER']=='1-Juan']\n",
    "\n",
    "#med = medidas_nair_juan.RESULTADO.value_counts()\n",
    "\n",
    "#med.plot.barh()\n"
   ]
  },
  {
   "cell_type": "code",
   "execution_count": null,
   "metadata": {},
   "outputs": [],
   "source": []
  }
 ],
 "metadata": {
  "kernelspec": {
   "display_name": "Python 3",
   "language": "python",
   "name": "python3"
  },
  "language_info": {
   "codemirror_mode": {
    "name": "ipython",
    "version": 3
   },
   "file_extension": ".py",
   "mimetype": "text/x-python",
   "name": "python",
   "nbconvert_exporter": "python",
   "pygments_lexer": "ipython3",
   "version": "3.8.10"
  }
 },
 "nbformat": 4,
 "nbformat_minor": 4
}
